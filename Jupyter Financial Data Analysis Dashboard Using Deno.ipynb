{
  "cells": [
    {
      "id": "81565793-c426-42ec-be05-af5cc8a336d7",
      "cell_type": "markdown",
      "source": "# Building a Data Dashboard with Deno and Jupyter Notebooks\nTo help you understand how the new Deno kernel works, it's better if we do a basic data visualization exercise using Jupyter Notebooks and Deno. \nYou will build a financial data dashboard that analyzes your income and expenses. This dashboard will provide visualizations and insights on your financial data, helping you understand your spending habits overtime and make informed financial decisions. It will also allow you to track your net income, and identify trends.\nHere is a sample dataset of what the data would look like:\n\n```\nDate,Income,Expenses,NetIncome,BudgetIncome,ActualIncome,BudgetExpenses,ActualExpenses,Salaries,R&D,Marketing,Utilities,Rent,Equipment,Software,Hardware,Consulting,Office Supplies,DiffIncome,DiffExpenses\n2022-01-01,281,218,63,284,281,221,218,41,24,45,43,22,35,2,2,2,2,3,3\n2022-01-02,328,244,84,323,328,240,244,46,45,34,35,31,37,1,4,8,3,-5,-4\n2022-01-03,266,223,43,269,266,222,223,31,49,38,30,22,40,2,6,1,4,3,-1\n2022-01-04,287,226,61,279,287,229,226,43,47,31,48,21,26,5,1,3,1,-8,3\n2022-01-05,307,214,93,309,307,217,214,48,37,40,23,34,20,1,3,4,4,2,3\n```\nThe dataset for the dashboard is publicly available here.\n\n## Choosing the Right Tools for Data Visualization\nChoose the tools you're going to use the following packages:\n- skia_canvas\n- display\n- d3.js\n- @observablehq/plot\n`skia_canvas` will be used to create a canvas for rendering the data visualizations, `display` will be used to render the plot on the canvas, `d3.js` will be used for data visualization, and `@observablehq/plot` is a JavaScript library for creating interactive plots.\n\n## Start Building the Data Visualization Dashboard\nTo build the financial data dashboard, you can start by importing the necessary libraries and modules in your Jupyter Notebook. Begin by importing the `nodejs-polars` library, as well as the Display module. These modules and libraries will be used for processing the data for your dashboard.",
      "metadata": {
        "noteable": {
          "cell_type": "markdown"
        }
      }
    },
    {
      "cell_type": "code",
      "execution_count": 3,
      "id": "7f6ba11a-ed1c-45db-a5cf-f9f301a0c621",
      "metadata": {
        "noteable": {
          "output_collection_id": "42031cd9-06b3-4e2e-8eb7-5ded1571c3ad"
        },
        "ExecuteTime": {
          "end_time": "2023-12-12T13:43:21.322735+00:00",
          "start_time": "2023-12-12T13:43:20.172977+00:00"
        },
        "dx": {
          "fieldMetadata": {},
          "simpleTable": true,
          "updated": 1702371784251,
          "views": []
        }
      },
      "outputs": [],
      "source": "import pl from \"npm:nodejs-polars\";\nimport { display } from \"https://deno.land/x/display@v0.1.1/mod.ts\";"
    },
    {
      "id": "8e6e7763-c264-4480-a6f6-c91ce8db799d",
      "cell_type": "markdown",
      "source": "Once you have the required libraries imported, you can start fetching the sample dataset before the data visualization process. ",
      "metadata": {
        "noteable": {
          "cell_type": "markdown"
        }
      }
    },
    {
      "id": "cc208791-14a8-4440-baf1-049452ea2c4a",
      "cell_type": "code",
      "metadata": {
        "jupyter": {
          "outputs_hidden": false,
          "source_hidden": false
        },
        "noteable": {
          "cell_type": "code"
        }
      },
      "execution_count": null,
      "source": "let response = await fetch(\n\"https://gist.githubusercontent.com/agustinustheo/195f32a4a6c68c493056c883d959ca35/raw/c7363d8b916ab00a2d1747adb89fca120da29f42/mock_financial_data.csv\",\n);\n\nlet data = await response.text();\n\nlet df = pl.readCSV(data, { sep: \",\" });\n\nawait display(df.sample(10));",
      "outputs": []
    },
    {
      "id": "a2f6af80-f88e-478b-946e-02be3e70aaf9",
      "cell_type": "markdown",
      "source": "",
      "metadata": {
        "noteable": {
          "cell_type": "markdown"
        }
      }
    },
    {
      "cell_type": "code",
      "execution_count": 4,
      "id": "2ba1a8fd-2670-4ebc-a037-e3b29abd0901",
      "metadata": {
        "noteable": {
          "output_collection_id": "c4e9a975-e77b-4838-8c75-fd92b0f279ca"
        },
        "ExecuteTime": {
          "end_time": "2023-12-12T13:43:22.002451+00:00",
          "start_time": "2023-12-12T13:43:21.393317+00:00"
        }
      },
      "outputs": [],
      "source": "import * as d3 from \"npm:d3\";\nimport { createCanvas } from \"https://deno.land/x/skia_canvas/mod.ts\";"
    },
    {
      "id": "687598ab-f1a5-4aae-80a8-bdf170384066",
      "cell_type": "markdown",
      "source": "",
      "metadata": {
        "noteable": {
          "cell_type": "markdown"
        }
      }
    },
    {
      "id": "2b9a5f51-3cd5-4a1d-bd53-37b2b32cbefd",
      "cell_type": "code",
      "metadata": {
        "jupyter": {
          "outputs_hidden": false,
          "source_hidden": false
        },
        "noteable": {
          "cell_type": "code",
          "output_collection_id": "464c16ff-d2d8-4fee-bb31-7e946015622a"
        },
        "ExecuteTime": {
          "end_time": "2023-12-12T13:43:22.014013+00:00",
          "start_time": "2023-12-12T13:43:22.011169+00:00"
        }
      },
      "execution_count": null,
      "source": "let categories = ['Salaries', 'R&D', 'Marketing', 'Utilities', 'Rent', 'Equipment', 'Software', 'Hardware', 'Consulting', 'Office Supplies'];\n\nconst lastDataPoint = df.tail(1).toRecords()[0];\nconsole.log(lastDataPoint);\n\n// Sample data\nconst sampleData1 = [];\nfor(let i = 0; i < categories.length; i++) {\n    const category = categories[i];\n    sampleData1.push({\n        category,\n        amount: lastDataPoint[category],\n    });\n}",
      "outputs": []
    },
    {
      "id": "ee6c5467-96c8-40dd-a103-3d1e869f538a",
      "cell_type": "markdown",
      "source": "",
      "metadata": {
        "noteable": {
          "cell_type": "markdown"
        }
      }
    },
    {
      "id": "9bb64faa-fc07-4073-b3b8-c56b0d758245",
      "cell_type": "code",
      "metadata": {
        "jupyter": {
          "outputs_hidden": false,
          "source_hidden": false
        },
        "noteable": {
          "cell_type": "code",
          "output_collection_id": "bf2a8414-9fb0-4bd7-beff-53533ee36b95"
        },
        "ExecuteTime": {
          "end_time": "2023-12-12T13:43:22.139713+00:00",
          "start_time": "2023-12-12T13:43:22.115296+00:00"
        }
      },
      "execution_count": null,
      "source": "const width = 500;\nconst height = 500;\nconst radius = Math.min(width, height) / 2;\n\n// Create a pie function\nconst pie = d3.pie().value(d => d.amount);\n\n// Create an arc generator for the slices\nconst arc = d3.arc()\n    .innerRadius(0)\n    .outerRadius(radius);\n\n// Create an arc generator for the labels\nconst labelArc = d3.arc()\n    .innerRadius(radius - 40) // Adjust to position the labels\n    .outerRadius(radius - 40);\n\n// Create the canvas\nconst canvas = createCanvas(width, height);\nconst ctx = canvas.getContext(\"2d\");\n\n// Translate to center the pie chart\nctx.translate(width / 2, height / 2);\n\n// Draw the pie chart\npie(sampleData1).forEach((d, i) => {\n    // Draw the slice\n    ctx.beginPath();\n    arc.context(ctx)(d);\n    ctx.fillStyle = d3.schemeCategory10[i % 10];\n    ctx.fill();\n\n    // Draw the label\n    ctx.fillStyle = \"#000\"; // Label color\n    ctx.textAlign = \"center\";\n    ctx.textBaseline = \"middle\";\n    \n    const centroid = labelArc.centroid(d);\n    ctx.fillText(d.data.category, centroid[0], centroid[1]);\n});\n\n// Display the canvas\nawait display(canvas);",
      "outputs": []
    },
    {
      "id": "2a37e3cf-81ce-420d-8281-2d15016e2492",
      "cell_type": "markdown",
      "source": "",
      "metadata": {
        "noteable": {
          "cell_type": "markdown"
        }
      }
    },
    {
      "id": "40d1b25d-d2fe-47b4-a05e-4fc2c97ad944",
      "cell_type": "code",
      "metadata": {
        "jupyter": {
          "outputs_hidden": false,
          "source_hidden": false
        },
        "noteable": {
          "cell_type": "code",
          "output_collection_id": "3b01432e-2ab6-4f7d-b0e3-1ff5973f5c7c"
        },
        "ExecuteTime": {
          "end_time": "2023-12-12T13:43:23.227131+00:00",
          "start_time": "2023-12-12T13:43:22.537123+00:00"
        }
      },
      "execution_count": null,
      "source": "import * as Plot from \"npm:@observablehq/plot\";\nimport { DOMParser, SVGElement } from \"npm:linkedom\";\nconst document = new DOMParser().parseFromString(\n  `<!DOCTYPE html><html lang=\"en\"></html>`,\n  \"text/html\",\n);\n\nlet records = df.tail(40).toRecords();",
      "outputs": []
    },
    {
      "id": "39059b24-9aa1-4350-8e9b-f10c31be5b2c",
      "cell_type": "markdown",
      "source": "",
      "metadata": {
        "noteable": {
          "cell_type": "markdown"
        }
      }
    },
    {
      "id": "503950cd-0a00-4e97-9fd8-cc14ce04e691",
      "cell_type": "code",
      "metadata": {
        "noteable": {
          "cell_type": "python",
          "output_collection_id": "ff45f31e-c209-49ac-a6c7-37dae2996497"
        },
        "ExecuteTime": {
          "end_time": "2023-12-12T13:43:23.255405+00:00",
          "start_time": "2023-12-12T13:43:23.237616+00:00"
        }
      },
      "execution_count": null,
      "source": "let convertedArray = records.map(item => {\n    return {\n        NetIncome: item.NetIncome,\n        Date: new Date(item.Date)\n    };\n});\n\nawait display(\n  Plot.plot({\n    x: { type: \"band\" },\n    y: { grid: true },\n    marks: [\n      Plot.line(convertedArray, {x: \"Date\", y: \"NetIncome\"}),\n    ],\n    document,\n  }),\n);",
      "outputs": []
    },
    {
      "id": "f2005cf8-a043-40d6-a5a6-e206fa81167b",
      "cell_type": "markdown",
      "source": "",
      "metadata": {
        "noteable": {
          "cell_type": "markdown"
        }
      }
    },
    {
      "id": "d1116a55-4335-4221-b94b-13ddbaaeb265",
      "cell_type": "code",
      "metadata": {
        "jupyter": {
          "outputs_hidden": false,
          "source_hidden": false
        },
        "noteable": {
          "cell_type": "code",
          "output_collection_id": "e2b5c107-043d-47f4-b27b-e965ed03d7c1"
        },
        "ExecuteTime": {
          "end_time": "2023-12-12T13:43:23.541594+00:00",
          "start_time": "2023-12-12T13:43:23.522476+00:00"
        }
      },
      "execution_count": null,
      "source": "\n\nlet sampleData2 = [];\nfor (let i = 0; i < records.length; i++) {\n  const currentRecord = records[i];\n  for (let x = 0; x < categories.length; x++) {\n    const currentCategory = categories[x];\n    sampleData2.push({\n      date: new Date(currentRecord[\"Date\"]),\n      category: currentCategory,\n      count: currentRecord[currentCategory],\n    });\n  }\n}\n\nawait display(\n  Plot.plot({\n    x: { type: \"band\" },\n    y: { grid: true },\n    marks: [\n      Plot.barY(sampleData2, { x: \"date\", y: \"count\", fill: \"category\" }),\n      Plot.ruleY([0]),\n    ],\n    color: { legend: true },\n    document,\n  }),\n);",
      "outputs": []
    },
    {
      "id": "2f474be8-caee-42aa-ad2e-2bc47e035729",
      "cell_type": "markdown",
      "source": "",
      "metadata": {
        "noteable": {
          "cell_type": "markdown"
        }
      }
    }
  ],
  "metadata": {
    "kernelspec": {
      "display_name": "Typescript: Deno 1.37 (Extra Packages)",
      "identifier": "packages",
      "language": "typescript",
      "language_version": "(Deno 1.37)",
      "name": "typescript-deno-1.37-packages"
    },
    "language_info": {
      "file_extension": ".ts",
      "mimetype": "text/x.typescript",
      "name": "typescript",
      "nb_converter": "script",
      "pygments_lexer": "typescript",
      "version": "5.2.2"
    },
    "kernel_info": {
      "name": "typescript-deno-1.37-packages"
    },
    "selected_hardware_size": "small"
  },
  "nbformat": 4,
  "nbformat_minor": 5
}