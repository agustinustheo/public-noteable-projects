{
 "cells": [
  {
   "cell_type": "code",
   "execution_count": 2,
   "id": "c050ff0e-fc5c-473d-a57e-be27b424a4a0",
   "metadata": {},
   "outputs": [
    {
     "name": "stdout",
     "output_type": "stream",
     "text": [
      "Defaulting to user installation because normal site-packages is not writeable\n",
      "Collecting pandas\n",
      "  Downloading pandas-2.1.4-cp310-cp310-manylinux_2_17_x86_64.manylinux2014_x86_64.whl (12.3 MB)\n",
      "\u001b[2K     \u001b[90m━━━━━━━━━━━━━━━━━━━━━━━━━━━━━━━━━━━━━━━━\u001b[0m \u001b[32m12.3/12.3 MB\u001b[0m \u001b[31m2.3 MB/s\u001b[0m eta \u001b[36m0:00:00\u001b[0m00:01\u001b[0m00:01\u001b[0m\n",
      "\u001b[?25hCollecting tzdata>=2022.1\n",
      "  Downloading tzdata-2023.3-py2.py3-none-any.whl (341 kB)\n",
      "\u001b[2K     \u001b[90m━━━━━━━━━━━━━━━━━━━━━━━━━━━━━━━━━━━━━━━\u001b[0m \u001b[32m341.8/341.8 KB\u001b[0m \u001b[31m1.6 MB/s\u001b[0m eta \u001b[36m0:00:00\u001b[0ma \u001b[36m0:00:01\u001b[0m\n",
      "\u001b[?25hCollecting numpy<2,>=1.22.4\n",
      "  Downloading numpy-1.26.2-cp310-cp310-manylinux_2_17_x86_64.manylinux2014_x86_64.whl (18.2 MB)\n",
      "\u001b[2K     \u001b[90m━━━━━━━━━━━━━━━━━━━━━━━━━━━━━━━━━━━━━━━━\u001b[0m \u001b[32m18.2/18.2 MB\u001b[0m \u001b[31m1.5 MB/s\u001b[0m eta \u001b[36m0:00:00\u001b[0m00:01\u001b[0m00:01\u001b[0mm\n",
      "\u001b[?25hRequirement already satisfied: python-dateutil>=2.8.2 in ./.local/lib/python3.10/site-packages (from pandas) (2.8.2)\n",
      "Requirement already satisfied: pytz>=2020.1 in /usr/lib/python3/dist-packages (from pandas) (2022.1)\n",
      "Requirement already satisfied: six>=1.5 in /usr/lib/python3/dist-packages (from python-dateutil>=2.8.2->pandas) (1.16.0)\n",
      "Installing collected packages: tzdata, numpy, pandas\n",
      "Successfully installed numpy-1.26.2 pandas-2.1.4 tzdata-2023.3\n"
     ]
    }
   ],
   "source": [
    "!pip install pandas"
   ]
  },
  {
   "cell_type": "code",
   "execution_count": 14,
   "id": "3b2d686b-8de9-4cd9-ae58-1e9b3cc51a47",
   "metadata": {},
   "outputs": [
    {
     "data": {
      "text/plain": [
       "True"
      ]
     },
     "execution_count": 14,
     "metadata": {},
     "output_type": "execute_result"
    }
   ],
   "source": [
    "# Python script that compares the sum of category expenses to the Expenses column for each row\n",
    "import pandas as pd\n",
    "\n",
    "# URL of the mock financial data CSV\n",
    "url = 'https://gist.githubusercontent.com/agustinustheo/195f32a4a6c68c493056c883d959ca35/raw/c7363d8b916ab00a2d1747adb89fca120da29f42/mock_financial_data.csv'\n",
    "\n",
    "# Load the financial data from the provided URL\n",
    "financial_data = pd.read_csv(url)\n",
    "\n",
    "# Define the categories and sub-categories\n",
    "categories = ['Salaries', 'R&D', 'Marketing', 'Utilities', 'Rent', 'Equipment']\n",
    "sub_categories = ['Software', 'Hardware', 'Consulting', 'Office Supplies']\n",
    "\n",
    "def update_expenses(financial_data, categories, sub_categories):\n",
    "    # Sum up the expenses in all categories and sub-categories\n",
    "    financial_data['Expenses'] = financial_data[categories + sub_categories].sum(axis=1)\n",
    "    \n",
    "    financial_data['Income'] = financial_data[['NetIncome'] + ['Expenses']].sum(axis=1)\n",
    "    \n",
    "    financial_data['DiffIncome'] = financial_data['BudgetIncome'].sub(financial_data['ActualIncome'])\n",
    "    \n",
    "    financial_data['DiffExpenses'] = financial_data['BudgetExpenses'].sub(financial_data['ActualExpenses'])\n",
    "    \n",
    "    financial_data['BudgetIncome'] = financial_data[['Income'] + ['DiffIncome']].sum(axis=1)\n",
    "    \n",
    "    financial_data['BudgetExpenses'] = financial_data[['Expenses'] + ['DiffExpenses']].sum(axis=1)\n",
    "    \n",
    "    financial_data['ActualIncome'] = financial_data['Income']\n",
    "    \n",
    "    financial_data['ActualExpenses'] = financial_data['Expenses']\n",
    "\n",
    "    updated_csv_file_path = 'updated_mock_financial_data.csv'\n",
    "    financial_data.to_csv(updated_csv_file_path, index=False)\n",
    "\n",
    "# Apply the function and store the result\n",
    "# update_expenses(financial_data, categories, subcategories)\n",
    "\n",
    "# Function to compare sum of all category expenses to the Expenses column for each row\n",
    "def compare_expenses(financial_data, categories, sub_categories):\n",
    "    # Sum up the expenses in all categories and sub-categories\n",
    "    financial_data['TotalCategoryExpenses'] = financial_data[categories + sub_categories].sum(axis=1)\n",
    "    \n",
    "    # Compare the sum of category expenses to the Expenses column\n",
    "    financial_data['ExpensesMatch'] = financial_data['TotalCategoryExpenses'] == financial_data['Expenses']\n",
    "    \n",
    "    return financial_data['ExpensesMatch']\n",
    "\n",
    "# Apply the function and store the result\n",
    "expenses_match = compare_expenses(financial_data, categories, sub_categories)\n",
    "\n",
    "# Show the boolean results\n",
    "expenses_match_bool = expenses_match.all()\n",
    "expenses_match_bool"
   ]
  }
 ],
 "metadata": {
  "kernelspec": {
   "display_name": "Python 3 (ipykernel)",
   "language": "python",
   "name": "python3"
  },
  "language_info": {
   "codemirror_mode": {
    "name": "ipython",
    "version": 3
   },
   "file_extension": ".py",
   "mimetype": "text/x-python",
   "name": "python",
   "nbconvert_exporter": "python",
   "pygments_lexer": "ipython3",
   "version": "3.10.6"
  }
 },
 "nbformat": 4,
 "nbformat_minor": 5
}
