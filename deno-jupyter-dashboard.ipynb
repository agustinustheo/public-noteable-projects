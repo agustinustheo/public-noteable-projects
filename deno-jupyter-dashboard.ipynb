{
  "cells": [
    {
      "id": "81565793-c426-42ec-be05-af5cc8a336d7",
      "cell_type": "markdown",
      "source": "",
      "metadata": {
        "noteable": {
          "cell_type": "markdown"
        }
      }
    },
    {
      "cell_type": "code",
      "execution_count": 3,
      "id": "7f6ba11a-ed1c-45db-a5cf-f9f301a0c621",
      "metadata": {
        "noteable": {
          "output_collection_id": "9fee5269-b6b8-467a-a7f7-52bbd76f9996"
        },
        "ExecuteTime": {
          "end_time": "2023-12-12T13:38:09.227040+00:00",
          "start_time": "2023-12-12T13:38:04.869390+00:00"
        },
        "dx": {
          "fieldMetadata": {},
          "simpleTable": true,
          "updated": 1702371784251,
          "views": []
        }
      },
      "outputs": [],
      "source": "import pl from \"npm:nodejs-polars\";\nimport { display } from \"https://deno.land/x/display@v0.1.1/mod.ts\";\n\nlet response = await fetch(\n\"https://gist.githubusercontent.com/agustinustheo/195f32a4a6c68c493056c883d959ca35/raw/c7363d8b916ab00a2d1747adb89fca120da29f42/mock_financial_data.csv\",\n);\n\nlet data = await response.text();\n\nlet df = pl.readCSV(data, { sep: \",\" });\n\nawait display(df.sample(10));"
    },
    {
      "id": "a2f6af80-f88e-478b-946e-02be3e70aaf9",
      "cell_type": "markdown",
      "source": "",
      "metadata": {
        "noteable": {
          "cell_type": "markdown"
        }
      }
    },
    {
      "cell_type": "code",
      "execution_count": 4,
      "id": "2ba1a8fd-2670-4ebc-a037-e3b29abd0901",
      "metadata": {
        "noteable": {
          "output_collection_id": "1b06e918-6b44-4ade-b1b9-d6e7f25d4054"
        },
        "ExecuteTime": {
          "end_time": "2023-12-12T13:38:10.721509+00:00",
          "start_time": "2023-12-12T13:38:09.340871+00:00"
        }
      },
      "outputs": [],
      "source": "import * as d3 from \"npm:d3\";\nimport { createCanvas } from \"https://deno.land/x/skia_canvas/mod.ts\";"
    },
    {
      "id": "687598ab-f1a5-4aae-80a8-bdf170384066",
      "cell_type": "markdown",
      "source": "",
      "metadata": {
        "noteable": {
          "cell_type": "markdown"
        }
      }
    },
    {
      "id": "2b9a5f51-3cd5-4a1d-bd53-37b2b32cbefd",
      "cell_type": "code",
      "metadata": {
        "jupyter": {
          "outputs_hidden": false,
          "source_hidden": false
        },
        "noteable": {
          "cell_type": "code",
          "output_collection_id": "a1a5cc24-df11-4d6e-81ba-e3eb6f7afd24"
        },
        "ExecuteTime": {
          "end_time": "2023-12-12T13:38:10.734405+00:00",
          "start_time": "2023-12-12T13:38:10.731113+00:00"
        }
      },
      "execution_count": null,
      "source": "let categories = ['Salaries', 'R&D', 'Marketing', 'Utilities', 'Rent', 'Equipment', 'Software', 'Hardware', 'Consulting', 'Office Supplies'];\n\n// Sample data\nconst sampleData1 = [];\nfor(let i = 0; i < categories.length; i++) {\n    const category = categories[i];\n    const lastDataPoint = df.tail(1).toRecords()[0];\n    sampleData1.push({\n        category,\n        amount: lastDataPoint[category],\n    });\n}",
      "outputs": []
    },
    {
      "id": "ee6c5467-96c8-40dd-a103-3d1e869f538a",
      "cell_type": "markdown",
      "source": "",
      "metadata": {
        "noteable": {
          "cell_type": "markdown"
        }
      }
    },
    {
      "id": "9bb64faa-fc07-4073-b3b8-c56b0d758245",
      "cell_type": "code",
      "metadata": {
        "jupyter": {
          "outputs_hidden": false,
          "source_hidden": false
        },
        "noteable": {
          "cell_type": "code",
          "output_collection_id": "e8259465-600c-4dcd-a88e-fb5e78c3c3f6"
        },
        "ExecuteTime": {
          "end_time": "2023-12-12T13:38:10.964040+00:00",
          "start_time": "2023-12-12T13:38:10.945870+00:00"
        }
      },
      "execution_count": null,
      "source": "const width = 500;\nconst height = 500;\nconst radius = Math.min(width, height) / 2;\n\n// Create a pie function\nconst pie = d3.pie().value(d => d.amount);\n\n// Create an arc generator for the slices\nconst arc = d3.arc()\n    .innerRadius(0)\n    .outerRadius(radius);\n\n// Create an arc generator for the labels\nconst labelArc = d3.arc()\n    .innerRadius(radius - 40) // Adjust to position the labels\n    .outerRadius(radius - 40);\n\n// Create the canvas\nconst canvas = createCanvas(width, height);\nconst ctx = canvas.getContext(\"2d\");\n\n// Translate to center the pie chart\nctx.translate(width / 2, height / 2);\n\n// Draw the pie chart\npie(sampleData1).forEach((d, i) => {\n    // Draw the slice\n    ctx.beginPath();\n    arc.context(ctx)(d);\n    ctx.fillStyle = d3.schemeCategory10[i % 10];\n    ctx.fill();\n\n    // Draw the label\n    ctx.fillStyle = \"#000\"; // Label color\n    ctx.textAlign = \"center\";\n    ctx.textBaseline = \"middle\";\n    \n    const centroid = labelArc.centroid(d);\n    ctx.fillText(d.data.category, centroid[0], centroid[1]);\n});\n\n// Display the canvas\nawait display(canvas);",
      "outputs": []
    },
    {
      "id": "2a37e3cf-81ce-420d-8281-2d15016e2492",
      "cell_type": "markdown",
      "source": "",
      "metadata": {
        "noteable": {
          "cell_type": "markdown"
        }
      }
    },
    {
      "id": "40d1b25d-d2fe-47b4-a05e-4fc2c97ad944",
      "cell_type": "code",
      "metadata": {
        "jupyter": {
          "outputs_hidden": false,
          "source_hidden": false
        },
        "noteable": {
          "cell_type": "code",
          "output_collection_id": "bbf8f93d-2193-4e82-a783-c29f84d7880f"
        },
        "ExecuteTime": null
      },
      "execution_count": null,
      "source": "import * as Plot from \"npm:@observablehq/plot\";\nimport { DOMParser, SVGElement } from \"npm:linkedom\";\nconst document = new DOMParser().parseFromString(\n  `<!DOCTYPE html><html lang=\"en\"></html>`,\n  \"text/html\",\n);\n\nlet records = df.tail(40).toRecords();",
      "outputs": []
    },
    {
      "id": "39059b24-9aa1-4350-8e9b-f10c31be5b2c",
      "cell_type": "markdown",
      "source": "",
      "metadata": {
        "noteable": {
          "cell_type": "markdown"
        }
      }
    },
    {
      "id": "503950cd-0a00-4e97-9fd8-cc14ce04e691",
      "cell_type": "code",
      "metadata": {
        "noteable": {
          "cell_type": "python",
          "output_collection_id": "fce6e71c-8600-40f9-8d84-7ce33e31fa0d"
        },
        "ExecuteTime": {
          "end_time": "2023-12-12T13:35:32.424811+00:00",
          "start_time": "2023-12-12T13:35:32.417986+00:00"
        }
      },
      "execution_count": null,
      "source": "let convertedArray = records.map(item => {\n    return {\n        NetIncome: item.NetIncome,\n        Date: new Date(item.Date)\n    };\n});\n\nawait display(\n  Plot.plot({\n    x: { type: \"band\" },\n    y: { grid: true },\n    marks: [\n      Plot.line(convertedArray, {x: \"Date\", y: \"NetIncome\"}),\n    ],\n    document,\n  }),\n);",
      "outputs": []
    },
    {
      "id": "f2005cf8-a043-40d6-a5a6-e206fa81167b",
      "cell_type": "markdown",
      "source": "",
      "metadata": {
        "noteable": {
          "cell_type": "markdown"
        }
      }
    },
    {
      "id": "d1116a55-4335-4221-b94b-13ddbaaeb265",
      "cell_type": "code",
      "metadata": {
        "jupyter": {
          "outputs_hidden": false,
          "source_hidden": false
        },
        "noteable": {
          "cell_type": "code",
          "output_collection_id": "8565add0-1b2b-463f-8b42-ffccc61751a6"
        },
        "ExecuteTime": {
          "end_time": "2023-12-12T13:35:32.861780+00:00",
          "start_time": "2023-12-12T13:35:32.842787+00:00"
        }
      },
      "execution_count": null,
      "source": "\n\nlet sampleData2 = [];\nfor (let i = 0; i < records.length; i++) {\n  const currentRecord = records[i];\n  for (let x = 0; x < categories.length; x++) {\n    const currentCategory = categories[x];\n    sampleData2.push({\n      date: new Date(currentRecord[\"Date\"]),\n      category: currentCategory,\n      count: currentRecord[currentCategory],\n    });\n  }\n}\n\nawait display(\n  Plot.plot({\n    x: { type: \"band\" },\n    y: { grid: true },\n    marks: [\n      Plot.barY(sampleData2, { x: \"date\", y: \"count\", fill: \"category\" }),\n      Plot.ruleY([0]),\n    ],\n    color: { legend: true },\n    document,\n  }),\n);",
      "outputs": []
    },
    {
      "id": "2f474be8-caee-42aa-ad2e-2bc47e035729",
      "cell_type": "markdown",
      "source": "",
      "metadata": {
        "noteable": {
          "cell_type": "markdown"
        }
      }
    }
  ],
  "metadata": {
    "kernelspec": {
      "display_name": "Typescript: Deno 1.37 (Extra Packages)",
      "identifier": "packages",
      "language": "typescript",
      "language_version": "(Deno 1.37)",
      "name": "typescript-deno-1.37-packages"
    },
    "language_info": {
      "file_extension": ".ts",
      "mimetype": "text/x.typescript",
      "name": "typescript",
      "nb_converter": "script",
      "pygments_lexer": "typescript",
      "version": "5.2.2"
    },
    "kernel_info": {
      "name": "typescript-deno-1.37-packages"
    },
    "selected_hardware_size": "small"
  },
  "nbformat": 4,
  "nbformat_minor": 5
}