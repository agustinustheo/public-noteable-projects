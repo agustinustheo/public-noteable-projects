{
  "cells": [
    {
      "id": "734ce453-c0d4-409f-907f-e6eebfd4ebfa",
      "cell_type": "markdown",
      "source": "",
      "metadata": {
        "noteable": {
          "cell_type": "markdown"
        }
      }
    },
    {
      "id": "81565793-c426-42ec-be05-af5cc8a336d7",
      "cell_type": "markdown",
      "source": "",
      "metadata": {
        "noteable": {
          "cell_type": "markdown"
        }
      }
    },
    {
      "cell_type": "code",
      "execution_count": 3,
      "id": "7f6ba11a-ed1c-45db-a5cf-f9f301a0c621",
      "metadata": {
        "noteable": {
          "output_collection_id": null
        },
        "ExecuteTime": {
          "end_time": "2023-12-12T12:57:18.518138+00:00",
          "start_time": "2023-12-12T12:57:18.360926+00:00"
        },
        "dx": {
          "fieldMetadata": {},
          "simpleTable": true,
          "updated": 1702371784251,
          "views": []
        }
      },
      "outputs": [],
      "source": "import pl from \"npm:nodejs-polars\";\nimport { display } from \"https://deno.land/x/display@v0.1.1/mod.ts\";\n\nlet response = await fetch(\n\"https://gist.githubusercontent.com/agustinustheo/195f32a4a6c68c493056c883d959ca35/raw/c7363d8b916ab00a2d1747adb89fca120da29f42/mock_financial_data.csv\",\n);\n\nlet categories = ['Salaries', 'R&D', 'Marketing', 'Utilities', 'Rent', 'Equipment', 'Software', 'Hardware', 'Consulting', 'Office Supplies'];\n\nlet data = await response.text();\n\nlet df = pl.readCSV(data, { sep: \",\" });\n\nawait display(df.sample(10));"
    },
    {
      "id": "a2f6af80-f88e-478b-946e-02be3e70aaf9",
      "cell_type": "markdown",
      "source": "",
      "metadata": {
        "noteable": {
          "cell_type": "markdown"
        }
      }
    },
    {
      "cell_type": "code",
      "execution_count": 4,
      "id": "2ba1a8fd-2670-4ebc-a037-e3b29abd0901",
      "metadata": {
        "noteable": {
          "output_collection_id": null
        },
        "ExecuteTime": {
          "end_time": "2023-12-12T11:56:01.131900+00:00",
          "start_time": "2023-12-12T11:56:00.611597+00:00"
        }
      },
      "outputs": [],
      "source": "import * as d3 from \"npm:d3\";\nimport { createCanvas } from \"https://deno.land/x/skia_canvas/mod.ts\";\n\n// Sample data\nconst sampleData1 = [];\nfor(let i = 0; i < categories.length; i++) {\n    const category = categories[i];\n    const lastDataPoint = df.tail(1).toRecords()[0];\n    sampleData1.push({\n        category,\n        amount: lastDataPoint[category],\n    });\n}\n\n// Set the dimensions of the canvas\nconst width = 500;\nconst height = 500;\nconst radius = Math.min(width, height) / 2;\n\n// Create a pie function\nconst pie = d3.pie().value(d => d.amount);\n\n// Create an arc generator for the slices\nconst arc = d3.arc()\n    .innerRadius(0)\n    .outerRadius(radius);\n\n// Create an arc generator for the labels\nconst labelArc = d3.arc()\n    .innerRadius(radius - 40) // Adjust to position the labels\n    .outerRadius(radius - 40);\n\n// Create the canvas\nconst canvas = createCanvas(width, height);\nconst ctx = canvas.getContext(\"2d\");\n\n// Translate to center the pie chart\nctx.translate(width / 2, height / 2);\n\n// Draw the pie chart\npie(sampleData1).forEach((d, i) => {\n    // Draw the slice\n    ctx.beginPath();\n    arc.context(ctx)(d);\n    ctx.fillStyle = d3.schemeCategory10[i % 10];\n    ctx.fill();\n\n    // Draw the label\n    ctx.fillStyle = \"#000\"; // Label color\n    ctx.textAlign = \"center\";\n    ctx.textBaseline = \"middle\";\n    \n    const centroid = labelArc.centroid(d);\n    ctx.fillText(d.data.category, centroid[0], centroid[1]);\n});\n\n// Display the canvas\nawait display(canvas);"
    },
    {
      "id": "40d1b25d-d2fe-47b4-a05e-4fc2c97ad944",
      "cell_type": "code",
      "metadata": {
        "jupyter": {
          "outputs_hidden": false,
          "source_hidden": false
        },
        "noteable": {
          "cell_type": "code",
          "output_collection_id": null
        },
        "ExecuteTime": {
          "end_time": "2023-12-12T12:20:52.689464+00:00",
          "start_time": "2023-12-12T12:20:52.677395+00:00"
        }
      },
      "execution_count": null,
      "source": "import * as Plot from \"npm:@observablehq/plot\";\nimport {\n    DOMParser,\n    SVGElement\n} from \"npm:linkedom\";\nconst document = new DOMParser().parseFromString(\n    `<!DOCTYPE html><html lang=\"en\"></html>`,\n    \"text/html\",\n);\n\nlet records = df.toRecords();\n\nlet sampleData2 = [];\nfor(let i = 0; i < records.length; i++) {\n    const currentRecord = records[i];\n    for(let x = 0; x < categories.length; x++) {\n        const currentCategory = categories[x];\n        sampleData2.push({\n            date: currentRecord[\"Date\"],\n            category: currentCategory;\n            amount: currentRecord[currentCategory]\n        })\n    }\n}\n\nawait display(\n    Plot.barY(\n        sampleData2,\n        Plot.groupX({\n            y: \"amount\"\n        }, {\n            x: \"date\",\n            fill: \"category\"\n        })\n    ).plot({\n        color: {\n            legend: true\n        },\n        document\n    })\n);",
      "outputs": []
    }
  ],
  "metadata": {
    "kernelspec": {
      "display_name": "Typescript: Deno 1.37 (Extra Packages)",
      "language": "typescript",
      "name": "typescript-deno-1.37-packages"
    },
    "language_info": {
      "file_extension": ".ts",
      "mimetype": "text/x.typescript",
      "name": "typescript",
      "nb_converter": "script",
      "pygments_lexer": "typescript",
      "version": "5.2.2"
    },
    "kernel_info": {
      "name": "typescript-deno-1.37-packages"
    },
    "selected_hardware_size": "small"
  },
  "nbformat": 4,
  "nbformat_minor": 5
}