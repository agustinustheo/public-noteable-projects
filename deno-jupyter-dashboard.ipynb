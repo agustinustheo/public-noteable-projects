{
  "cells": [
    {
      "cell_type": "code",
      "execution_count": 3,
      "id": "7f6ba11a-ed1c-45db-a5cf-f9f301a0c621",
      "metadata": {
        "noteable": {
          "output_collection_id": "79637765-1a9e-4702-93c5-71a7ae7c75a6"
        },
        "ExecuteTime": {
          "end_time": "2023-12-12T09:35:31.419368+00:00",
          "start_time": "2023-12-12T09:35:30.419998+00:00"
        },
        "dx": {
          "fieldMetadata": {},
          "simpleTable": true,
          "updated": 1702371784251,
          "views": []
        }
      },
      "outputs": [],
      "source": "import pl from \"npm:nodejs-polars\";\nimport { display } from \"https://deno.land/x/display@v0.1.1/mod.ts\";\n\nlet response = await fetch(\n    \"https://gist.githubusercontent.com/agustinustheo/195f32a4a6c68c493056c883d959ca35/raw/c7363d8b916ab00a2d1747adb89fca120da29f42/mock_financial_data.csv\",\n);\n\nlet data = await response.text();\n\nlet df = pl.readCSV(data, { sep: \",\" });\n\nawait display(df.sample(10));"
    },
    {
      "cell_type": "code",
      "execution_count": 4,
      "id": "2ba1a8fd-2670-4ebc-a037-e3b29abd0901",
      "metadata": {
        "noteable": {
          "output_collection_id": "916578df-f286-47b5-a732-e9036ada26ae"
        },
        "ExecuteTime": {
          "end_time": "2023-12-12T09:47:33.475181+00:00",
          "start_time": "2023-12-12T09:47:33.469436+00:00"
        }
      },
      "outputs": [],
      "source": "import * as d3 from \"npm:d3\";\nimport { createCanvas } from \"https://deno.land/x/skia_canvas/mod.ts\";\n\nlet categories = ['Salaries', 'R&D', 'Marketing', 'Utilities', 'Rent', 'Equipment', 'Software', 'Hardware', 'Consulting', 'Office Supplies'];\n\n// Sample data\nconst sampleData1 = [\n    { category: \"Salaries\", amount: 120 },\n    { category: \"R&D\", amount: 80 },\n    { category: \"Marketing\", amount: 50 },\n    { category: \"Utilities\", amount: 30 },\n    { category: \"Rent\", amount: 70 },\n    { category: \"Equipment\", amount: 60 }\n];\n\nconsole.log(df.tail(1).toRecords()[0]);\n\nfor(let i < 0; i < categories.length; i++) {\n    const lastDataPoint = df.tail(1).toRecords()[0];\n    \n}\n\n// Set the dimensions of the canvas\nconst width = 500;\nconst height = 500;\nconst radius = Math.min(width, height) / 2;\n\n// Create a pie function\nconst pie = d3.pie().value(d => d.amount);\n\n// Create an arc generator for the slices\nconst arc = d3.arc()\n    .innerRadius(0)\n    .outerRadius(radius);\n\n// Create an arc generator for the labels\nconst labelArc = d3.arc()\n    .innerRadius(radius - 40) // Adjust to position the labels\n    .outerRadius(radius - 40);\n\n// Create the canvas\nconst canvas = createCanvas(width, height);\nconst ctx = canvas.getContext(\"2d\");\n\n// Translate to center the pie chart\nctx.translate(width / 2, height / 2);\n\n// Draw the pie chart\npie(sampleData1).forEach((d, i) => {\n    // Draw the slice\n    ctx.beginPath();\n    arc.context(ctx)(d);\n    ctx.fillStyle = d3.schemeCategory10[i % 10];\n    ctx.fill();\n\n    // Draw the label\n    ctx.fillStyle = \"#000\"; // Label color\n    ctx.textAlign = \"center\";\n    ctx.textBaseline = \"middle\";\n    const centroid = labelArc.centroid(d);\n    ctx.fillText(d.data.category, centroid[0], centroid[1]);\n});\n\n// Display the canvas\n// await display(canvas);"
    }
  ],
  "metadata": {
    "kernelspec": {
      "display_name": "Typescript: Deno 1.37 (Extra Packages)",
      "identifier": "packages",
      "language": "typescript",
      "language_version": "(Deno 1.37)",
      "name": "typescript-deno-1.37-packages"
    },
    "language_info": {
      "file_extension": ".ts",
      "mimetype": "text/x.typescript",
      "name": "typescript",
      "nb_converter": "script",
      "pygments_lexer": "typescript",
      "version": "5.2.2"
    },
    "kernel_info": {
      "name": "typescript-deno-1.37-packages"
    },
    "selected_hardware_size": "small"
  },
  "nbformat": 4,
  "nbformat_minor": 5
}